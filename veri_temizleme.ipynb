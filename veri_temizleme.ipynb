{
 "cells": [
  {
   "cell_type": "code",
   "execution_count": 17,
   "id": "d0b45893",
   "metadata": {},
   "outputs": [],
   "source": [
    "import re  # re → Metin içinde desen aramak ve değiştirmek için kullanılır (örneğin linkleri bulmak).\n",
    "import string  # string → Noktalama işaretlerini temizlemek için kullanılır.\n",
    "from nltk.corpus import stopwords  # nltk / stopwords → İngilizce’de anlam taşımayan kelimeleri (a, the, and, vs.) temizlemek için.\n",
    "import nltk\n",
    "import pandas as pd"
   ]
  },
  {
   "cell_type": "code",
   "execution_count": 18,
   "id": "ee6e220d",
   "metadata": {},
   "outputs": [],
   "source": [
    "df=pd.read_csv(\"veri.csv\")"
   ]
  },
  {
   "cell_type": "code",
   "execution_count": 19,
   "id": "73195c6c",
   "metadata": {},
   "outputs": [
    {
     "data": {
      "text/html": [
       "<div>\n",
       "<style scoped>\n",
       "    .dataframe tbody tr th:only-of-type {\n",
       "        vertical-align: middle;\n",
       "    }\n",
       "\n",
       "    .dataframe tbody tr th {\n",
       "        vertical-align: top;\n",
       "    }\n",
       "\n",
       "    .dataframe thead th {\n",
       "        text-align: right;\n",
       "    }\n",
       "</style>\n",
       "<table border=\"1\" class=\"dataframe\">\n",
       "  <thead>\n",
       "    <tr style=\"text-align: right;\">\n",
       "      <th></th>\n",
       "      <th>0</th>\n",
       "      <th>1467810369</th>\n",
       "      <th>Mon Apr 06 22:19:45 PDT 2009</th>\n",
       "      <th>NO_QUERY</th>\n",
       "      <th>_TheSpecialOne_</th>\n",
       "      <th>@switchfoot http://twitpic.com/2y1zl - Awww, that's a bummer.  You shoulda got David Carr of Third Day to do it. ;D</th>\n",
       "    </tr>\n",
       "  </thead>\n",
       "  <tbody>\n",
       "    <tr>\n",
       "      <th>0</th>\n",
       "      <td>0</td>\n",
       "      <td>2186710655</td>\n",
       "      <td>Mon Jun 15 19:13:35 PDT 2009</td>\n",
       "      <td>NO_QUERY</td>\n",
       "      <td>mikastarfire</td>\n",
       "      <td>I had terrible headache last night.... and my ...</td>\n",
       "    </tr>\n",
       "    <tr>\n",
       "      <th>1</th>\n",
       "      <td>0</td>\n",
       "      <td>2186710671</td>\n",
       "      <td>Mon Jun 15 19:13:35 PDT 2009</td>\n",
       "      <td>NO_QUERY</td>\n",
       "      <td>xxLOVExxPEACE</td>\n",
       "      <td>i cant sleep</td>\n",
       "    </tr>\n",
       "    <tr>\n",
       "      <th>2</th>\n",
       "      <td>0</td>\n",
       "      <td>2186710748</td>\n",
       "      <td>Mon Jun 15 19:13:35 PDT 2009</td>\n",
       "      <td>NO_QUERY</td>\n",
       "      <td>dvanulya</td>\n",
       "      <td>@alba17 Sorry about kid situation. Good luck w...</td>\n",
       "    </tr>\n",
       "  </tbody>\n",
       "</table>\n",
       "</div>"
      ],
      "text/plain": [
       "   0  1467810369  Mon Apr 06 22:19:45 PDT 2009  NO_QUERY _TheSpecialOne_  \\\n",
       "0  0  2186710655  Mon Jun 15 19:13:35 PDT 2009  NO_QUERY    mikastarfire   \n",
       "1  0  2186710671  Mon Jun 15 19:13:35 PDT 2009  NO_QUERY   xxLOVExxPEACE   \n",
       "2  0  2186710748  Mon Jun 15 19:13:35 PDT 2009  NO_QUERY        dvanulya   \n",
       "\n",
       "  @switchfoot http://twitpic.com/2y1zl - Awww, that's a bummer.  You shoulda got David Carr of Third Day to do it. ;D  \n",
       "0  I had terrible headache last night.... and my ...                                                                   \n",
       "1                                      i cant sleep                                                                    \n",
       "2  @alba17 Sorry about kid situation. Good luck w...                                                                   "
      ]
     },
     "execution_count": 19,
     "metadata": {},
     "output_type": "execute_result"
    }
   ],
   "source": [
    "df.head(3)"
   ]
  },
  {
   "cell_type": "code",
   "execution_count": 20,
   "id": "d4a204a8",
   "metadata": {},
   "outputs": [],
   "source": [
    "columns=[\"id\",\"date\",\"query\",\"user\",\"text\"]\n",
    "df=pd.read_csv(\"veri.csv\",names=columns)"
   ]
  },
  {
   "cell_type": "code",
   "execution_count": 21,
   "id": "f1e8173b",
   "metadata": {},
   "outputs": [
    {
     "data": {
      "text/html": [
       "<div>\n",
       "<style scoped>\n",
       "    .dataframe tbody tr th:only-of-type {\n",
       "        vertical-align: middle;\n",
       "    }\n",
       "\n",
       "    .dataframe tbody tr th {\n",
       "        vertical-align: top;\n",
       "    }\n",
       "\n",
       "    .dataframe thead th {\n",
       "        text-align: right;\n",
       "    }\n",
       "</style>\n",
       "<table border=\"1\" class=\"dataframe\">\n",
       "  <thead>\n",
       "    <tr style=\"text-align: right;\">\n",
       "      <th></th>\n",
       "      <th>id</th>\n",
       "      <th>date</th>\n",
       "      <th>query</th>\n",
       "      <th>user</th>\n",
       "      <th>text</th>\n",
       "    </tr>\n",
       "  </thead>\n",
       "  <tbody>\n",
       "    <tr>\n",
       "      <th>0</th>\n",
       "      <td>1467810369</td>\n",
       "      <td>Mon Apr 06 22:19:45 PDT 2009</td>\n",
       "      <td>NO_QUERY</td>\n",
       "      <td>_TheSpecialOne_</td>\n",
       "      <td>@switchfoot http://twitpic.com/2y1zl - Awww, t...</td>\n",
       "    </tr>\n",
       "    <tr>\n",
       "      <th>0</th>\n",
       "      <td>2186710655</td>\n",
       "      <td>Mon Jun 15 19:13:35 PDT 2009</td>\n",
       "      <td>NO_QUERY</td>\n",
       "      <td>mikastarfire</td>\n",
       "      <td>I had terrible headache last night.... and my ...</td>\n",
       "    </tr>\n",
       "    <tr>\n",
       "      <th>0</th>\n",
       "      <td>2186710671</td>\n",
       "      <td>Mon Jun 15 19:13:35 PDT 2009</td>\n",
       "      <td>NO_QUERY</td>\n",
       "      <td>xxLOVExxPEACE</td>\n",
       "      <td>i cant sleep</td>\n",
       "    </tr>\n",
       "  </tbody>\n",
       "</table>\n",
       "</div>"
      ],
      "text/plain": [
       "           id                          date     query             user  \\\n",
       "0  1467810369  Mon Apr 06 22:19:45 PDT 2009  NO_QUERY  _TheSpecialOne_   \n",
       "0  2186710655  Mon Jun 15 19:13:35 PDT 2009  NO_QUERY     mikastarfire   \n",
       "0  2186710671  Mon Jun 15 19:13:35 PDT 2009  NO_QUERY    xxLOVExxPEACE   \n",
       "\n",
       "                                                text  \n",
       "0  @switchfoot http://twitpic.com/2y1zl - Awww, t...  \n",
       "0  I had terrible headache last night.... and my ...  \n",
       "0                                      i cant sleep   "
      ]
     },
     "execution_count": 21,
     "metadata": {},
     "output_type": "execute_result"
    }
   ],
   "source": [
    "df.head(3)"
   ]
  },
  {
   "cell_type": "code",
   "execution_count": 22,
   "id": "c9a5ca49",
   "metadata": {},
   "outputs": [],
   "source": [
    "df[\"cleaned_text\"]=df[\"text\"].apply(clean_text)"
   ]
  },
  {
   "cell_type": "code",
   "execution_count": 23,
   "id": "9c8b2222",
   "metadata": {},
   "outputs": [
    {
     "data": {
      "text/html": [
       "<div>\n",
       "<style scoped>\n",
       "    .dataframe tbody tr th:only-of-type {\n",
       "        vertical-align: middle;\n",
       "    }\n",
       "\n",
       "    .dataframe tbody tr th {\n",
       "        vertical-align: top;\n",
       "    }\n",
       "\n",
       "    .dataframe thead th {\n",
       "        text-align: right;\n",
       "    }\n",
       "</style>\n",
       "<table border=\"1\" class=\"dataframe\">\n",
       "  <thead>\n",
       "    <tr style=\"text-align: right;\">\n",
       "      <th></th>\n",
       "      <th>id</th>\n",
       "      <th>date</th>\n",
       "      <th>query</th>\n",
       "      <th>user</th>\n",
       "      <th>text</th>\n",
       "      <th>cleaned_text</th>\n",
       "    </tr>\n",
       "  </thead>\n",
       "  <tbody>\n",
       "    <tr>\n",
       "      <th>0</th>\n",
       "      <td>1467810369</td>\n",
       "      <td>Mon Apr 06 22:19:45 PDT 2009</td>\n",
       "      <td>NO_QUERY</td>\n",
       "      <td>_TheSpecialOne_</td>\n",
       "      <td>@switchfoot http://twitpic.com/2y1zl - Awww, t...</td>\n",
       "      <td>thats bummer shoulda got david carr third day</td>\n",
       "    </tr>\n",
       "    <tr>\n",
       "      <th>0</th>\n",
       "      <td>2186710655</td>\n",
       "      <td>Mon Jun 15 19:13:35 PDT 2009</td>\n",
       "      <td>NO_QUERY</td>\n",
       "      <td>mikastarfire</td>\n",
       "      <td>I had terrible headache last night.... and my ...</td>\n",
       "      <td>terrible headache last night weight decreased ...</td>\n",
       "    </tr>\n",
       "    <tr>\n",
       "      <th>0</th>\n",
       "      <td>2186710671</td>\n",
       "      <td>Mon Jun 15 19:13:35 PDT 2009</td>\n",
       "      <td>NO_QUERY</td>\n",
       "      <td>xxLOVExxPEACE</td>\n",
       "      <td>i cant sleep</td>\n",
       "      <td>cant sleep</td>\n",
       "    </tr>\n",
       "    <tr>\n",
       "      <th>0</th>\n",
       "      <td>2186710748</td>\n",
       "      <td>Mon Jun 15 19:13:35 PDT 2009</td>\n",
       "      <td>NO_QUERY</td>\n",
       "      <td>dvanulya</td>\n",
       "      <td>@alba17 Sorry about kid situation. Good luck w...</td>\n",
       "      <td>sorry kid situation good luck vid sorry giving...</td>\n",
       "    </tr>\n",
       "    <tr>\n",
       "      <th>0</th>\n",
       "      <td>2186710897</td>\n",
       "      <td>Mon Jun 15 19:13:36 PDT 2009</td>\n",
       "      <td>NO_QUERY</td>\n",
       "      <td>byhuy</td>\n",
       "      <td>nhớ nhà quá!!! cứ mỗi lần nghe bài Giấc Mơ Trưa</td>\n",
       "      <td>nhớ nhà quá cứ mỗi lần nghe bài giấc mơ trưa</td>\n",
       "    </tr>\n",
       "    <tr>\n",
       "      <th>0</th>\n",
       "      <td>2186711047</td>\n",
       "      <td>Mon Jun 15 19:13:37 PDT 2009</td>\n",
       "      <td>NO_QUERY</td>\n",
       "      <td>Chi_lanta</td>\n",
       "      <td>Missing Him!! Twitter Me RED?? What the heck i...</td>\n",
       "      <td>missing twitter red heck girl todo sad face</td>\n",
       "    </tr>\n",
       "    <tr>\n",
       "      <th>0</th>\n",
       "      <td>2186711267</td>\n",
       "      <td>Mon Jun 15 19:13:38 PDT 2009</td>\n",
       "      <td>NO_QUERY</td>\n",
       "      <td>IBEChillin</td>\n",
       "      <td>#musicmonday i got the blues today     ***sad ...</td>\n",
       "      <td>musicmonday got blues today sad</td>\n",
       "    </tr>\n",
       "    <tr>\n",
       "      <th>0</th>\n",
       "      <td>2186711319</td>\n",
       "      <td>Mon Jun 15 19:13:38 PDT 2009</td>\n",
       "      <td>NO_QUERY</td>\n",
       "      <td>akjava</td>\n",
       "      <td>Going to bed early tonight! (maybe) Wrist hurs...</td>\n",
       "      <td>going bed early tonight maybe wrist hurst bad ...</td>\n",
       "    </tr>\n",
       "    <tr>\n",
       "      <th>0</th>\n",
       "      <td>2186711725</td>\n",
       "      <td>Mon Jun 15 19:13:40 PDT 2009</td>\n",
       "      <td>NO_QUERY</td>\n",
       "      <td>icyprincess1218</td>\n",
       "      <td>I'm finally home! ... but only for a week</td>\n",
       "      <td>im finally home week</td>\n",
       "    </tr>\n",
       "    <tr>\n",
       "      <th>0</th>\n",
       "      <td>2186712004</td>\n",
       "      <td>Mon Jun 15 19:13:42 PDT 2009</td>\n",
       "      <td>NO_QUERY</td>\n",
       "      <td>Deeeda</td>\n",
       "      <td>Crazy busy day.  Crazy busy week ahead.  Getti...</td>\n",
       "      <td>crazy busy day crazy busy week ahead getting r...</td>\n",
       "    </tr>\n",
       "  </tbody>\n",
       "</table>\n",
       "</div>"
      ],
      "text/plain": [
       "           id                          date     query             user  \\\n",
       "0  1467810369  Mon Apr 06 22:19:45 PDT 2009  NO_QUERY  _TheSpecialOne_   \n",
       "0  2186710655  Mon Jun 15 19:13:35 PDT 2009  NO_QUERY     mikastarfire   \n",
       "0  2186710671  Mon Jun 15 19:13:35 PDT 2009  NO_QUERY    xxLOVExxPEACE   \n",
       "0  2186710748  Mon Jun 15 19:13:35 PDT 2009  NO_QUERY         dvanulya   \n",
       "0  2186710897  Mon Jun 15 19:13:36 PDT 2009  NO_QUERY            byhuy   \n",
       "0  2186711047  Mon Jun 15 19:13:37 PDT 2009  NO_QUERY        Chi_lanta   \n",
       "0  2186711267  Mon Jun 15 19:13:38 PDT 2009  NO_QUERY       IBEChillin   \n",
       "0  2186711319  Mon Jun 15 19:13:38 PDT 2009  NO_QUERY           akjava   \n",
       "0  2186711725  Mon Jun 15 19:13:40 PDT 2009  NO_QUERY  icyprincess1218   \n",
       "0  2186712004  Mon Jun 15 19:13:42 PDT 2009  NO_QUERY           Deeeda   \n",
       "\n",
       "                                                text  \\\n",
       "0  @switchfoot http://twitpic.com/2y1zl - Awww, t...   \n",
       "0  I had terrible headache last night.... and my ...   \n",
       "0                                      i cant sleep    \n",
       "0  @alba17 Sorry about kid situation. Good luck w...   \n",
       "0   nhớ nhà quá!!! cứ mỗi lần nghe bài Giấc Mơ Trưa    \n",
       "0  Missing Him!! Twitter Me RED?? What the heck i...   \n",
       "0  #musicmonday i got the blues today     ***sad ...   \n",
       "0  Going to bed early tonight! (maybe) Wrist hurs...   \n",
       "0         I'm finally home! ... but only for a week    \n",
       "0  Crazy busy day.  Crazy busy week ahead.  Getti...   \n",
       "\n",
       "                                        cleaned_text  \n",
       "0      thats bummer shoulda got david carr third day  \n",
       "0  terrible headache last night weight decreased ...  \n",
       "0                                         cant sleep  \n",
       "0  sorry kid situation good luck vid sorry giving...  \n",
       "0       nhớ nhà quá cứ mỗi lần nghe bài giấc mơ trưa  \n",
       "0        missing twitter red heck girl todo sad face  \n",
       "0                    musicmonday got blues today sad  \n",
       "0  going bed early tonight maybe wrist hurst bad ...  \n",
       "0                               im finally home week  \n",
       "0  crazy busy day crazy busy week ahead getting r...  "
      ]
     },
     "execution_count": 23,
     "metadata": {},
     "output_type": "execute_result"
    }
   ],
   "source": [
    "df.head(10)"
   ]
  },
  {
   "cell_type": "code",
   "execution_count": 24,
   "id": "08912bdd",
   "metadata": {},
   "outputs": [
    {
     "name": "stderr",
     "output_type": "stream",
     "text": [
      "[nltk_data] Downloading package stopwords to\n",
      "[nltk_data]     C:\\Users\\mesut\\AppData\\Roaming\\nltk_data...\n",
      "[nltk_data]   Package stopwords is already up-to-date!\n"
     ]
    },
    {
     "data": {
      "text/plain": [
       "True"
      ]
     },
     "execution_count": 24,
     "metadata": {},
     "output_type": "execute_result"
    }
   ],
   "source": [
    "nltk.download(\"stopwords\")\n",
    "# stopwords kelimelerini indirir"
   ]
  },
  {
   "cell_type": "code",
   "execution_count": 25,
   "id": "a9712778",
   "metadata": {},
   "outputs": [],
   "source": [
    "stop_words=set(stopwords.words(\"english\"))"
   ]
  },
  {
   "cell_type": "code",
   "execution_count": 26,
   "id": "843b1263",
   "metadata": {},
   "outputs": [],
   "source": [
    "def clean_text (text):\n",
    "    text=text.lower()  #büyük ve küçük harf farkını kaldırır\n",
    "    text = re.sub(r\"http\\S+|www\\S+|https\\S+\", '', text)\n",
    "    text = re.sub(r'\\@\\w+|\\#','', text)\n",
    "    text = text.translate(str.maketrans('', '', string.punctuation))\n",
    "    text = \" \".join([word for word in text.split() if word not in stop_words])\n",
    "    return text\n",
    "    \n"
   ]
  },
  {
   "cell_type": "code",
   "execution_count": 29,
   "id": "f9d8975c",
   "metadata": {},
   "outputs": [],
   "source": [
    "df=df.drop(\"text\",axis=1)"
   ]
  },
  {
   "cell_type": "code",
   "execution_count": 30,
   "id": "fa05b38f",
   "metadata": {},
   "outputs": [],
   "source": [
    "df.to_csv(\"twiter_data_cleaned.csv\",index=False)"
   ]
  },
  {
   "cell_type": "code",
   "execution_count": null,
   "id": "08c8329e",
   "metadata": {},
   "outputs": [],
   "source": []
  }
 ],
 "metadata": {
  "kernelspec": {
   "display_name": "Python 3",
   "language": "python",
   "name": "python3"
  },
  "language_info": {
   "codemirror_mode": {
    "name": "ipython",
    "version": 3
   },
   "file_extension": ".py",
   "mimetype": "text/x-python",
   "name": "python",
   "nbconvert_exporter": "python",
   "pygments_lexer": "ipython3",
   "version": "3.13.5"
  }
 },
 "nbformat": 4,
 "nbformat_minor": 5
}
